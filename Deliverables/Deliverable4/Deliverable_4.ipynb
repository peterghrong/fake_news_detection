{
  "nbformat": 4,
  "nbformat_minor": 0,
  "metadata": {
    "colab": {
      "name": "Deliverable 4",
      "provenance": [],
      "collapsed_sections": [
        "v83DcqGHUO4o"
      ]
    },
    "kernelspec": {
      "name": "python3",
      "display_name": "Python 3"
    }
  },
  "cells": [
    {
      "cell_type": "markdown",
      "metadata": {
        "id": "jUGcLuOuKQoC"
      },
      "source": [
        "# Deliverable 4\n",
        "\n"
      ]
    },
    {
      "cell_type": "markdown",
      "metadata": {
        "id": "QMq64jp0K_cL"
      },
      "source": [
        "## Introduction\n",
        "\n",
        "The goal of this project is to be able to classify news into the binary \"true\" or \"fake\". The input to this project should be a body of text. \n",
        "\n",
        "* [Libraries and Data](#scrollTo=YjJ80zE8LlPl&line=1&uniqifier=1)\n",
        "* [Data Pre-processing](#scrollTo=NWpFfa61ri-Q&line=3&uniqifier=1)\n",
        "* [Naive Bayes Modelling](#scrollTo=T8JraQaO8FEq&line=1&uniqifier=1)\n",
        "* [Random test](#scrollTo=DDoymd_YN6FC&line=1&uniqifier=1)\n"
      ]
    },
    {
      "cell_type": "markdown",
      "metadata": {
        "id": "YjJ80zE8LlPl"
      },
      "source": [
        "## 1. Libraries and Data\n",
        "\n",
        "\n",
        "\n"
      ]
    },
    {
      "cell_type": "markdown",
      "metadata": {
        "id": "oNhm7TJkTu5Z"
      },
      "source": [
        "### 1.1 Importing Libraries\n"
      ]
    },
    {
      "cell_type": "code",
      "metadata": {
        "id": "dThvXDjoTwxz",
        "colab": {
          "base_uri": "https://localhost:8080/"
        },
        "outputId": "7e9719fd-d854-4334-d8fe-ff1865bc0e96"
      },
      "source": [
        "import csv\n",
        "import random\n",
        "import pandas as pd\n",
        "import re\n",
        "from sklearn.metrics import accuracy_score\n",
        "\n",
        "import nltk\n",
        "nltk.download('punkt')\n",
        "nltk.download('wordnet')\n",
        "nltk.download('stopwords')\n",
        "from nltk import sent_tokenize, word_tokenize\n",
        "from nltk.stem.wordnet import WordNetLemmatizer\n",
        "from nltk.corpus import stopwords\n",
        "from sklearn.feature_extraction.text import CountVectorizer\n",
        "from sklearn.feature_extraction.text import TfidfTransformer\n",
        "from sklearn.naive_bayes import MultinomialNB\n",
        "from sklearn.model_selection import train_test_split\n",
        "from sklearn.metrics import classification_report\n",
        "from sklearn.metrics import confusion_matrix\n",
        "from sklearn.pipeline import Pipeline\n",
        "\n",
        "\n",
        "lemmatizer = WordNetLemmatizer()"
      ],
      "execution_count": null,
      "outputs": [
        {
          "output_type": "stream",
          "text": [
            "[nltk_data] Downloading package punkt to /root/nltk_data...\n",
            "[nltk_data]   Unzipping tokenizers/punkt.zip.\n",
            "[nltk_data] Downloading package wordnet to /root/nltk_data...\n",
            "[nltk_data]   Unzipping corpora/wordnet.zip.\n",
            "[nltk_data] Downloading package stopwords to /root/nltk_data...\n",
            "[nltk_data]   Unzipping corpora/stopwords.zip.\n"
          ],
          "name": "stdout"
        }
      ]
    },
    {
      "cell_type": "markdown",
      "metadata": {
        "id": "v83DcqGHUO4o"
      },
      "source": [
        "### 1.2 Downloading dataset CSVs"
      ]
    },
    {
      "cell_type": "code",
      "metadata": {
        "id": "ipLRIjlBUTZN",
        "colab": {
          "base_uri": "https://localhost:8080/"
        },
        "outputId": "17586661-3ff1-4a45-fb53-3df37cb40aa6"
      },
      "source": [
        "#fake csv\n",
        "!wget https://raw.githubusercontent.com/peterghrong/fake_news_detection/master/dataset/Fake.csv\n",
        "#true csv\n",
        "!wget https://raw.githubusercontent.com/peterghrong/fake_news_detection/master/dataset/True.csv"
      ],
      "execution_count": null,
      "outputs": [
        {
          "output_type": "stream",
          "text": [
            "--2020-11-29 22:44:47--  https://raw.githubusercontent.com/peterghrong/fake_news_detection/master/dataset/Fake.csv\n",
            "Resolving raw.githubusercontent.com (raw.githubusercontent.com)... 151.101.0.133, 151.101.64.133, 151.101.128.133, ...\n",
            "Connecting to raw.githubusercontent.com (raw.githubusercontent.com)|151.101.0.133|:443... connected.\n",
            "HTTP request sent, awaiting response... 200 OK\n",
            "Length: 62789876 (60M) [text/plain]\n",
            "Saving to: ‘Fake.csv’\n",
            "\n",
            "Fake.csv            100%[===================>]  59.88M  97.1MB/s    in 0.6s    \n",
            "\n",
            "2020-11-29 22:44:49 (97.1 MB/s) - ‘Fake.csv’ saved [62789876/62789876]\n",
            "\n",
            "--2020-11-29 22:44:49--  https://raw.githubusercontent.com/peterghrong/fake_news_detection/master/dataset/True.csv\n",
            "Resolving raw.githubusercontent.com (raw.githubusercontent.com)... 151.101.0.133, 151.101.64.133, 151.101.128.133, ...\n",
            "Connecting to raw.githubusercontent.com (raw.githubusercontent.com)|151.101.0.133|:443... connected.\n",
            "HTTP request sent, awaiting response... 200 OK\n",
            "Length: 53582940 (51M) [text/plain]\n",
            "Saving to: ‘True.csv’\n",
            "\n",
            "True.csv            100%[===================>]  51.10M  75.0MB/s    in 0.7s    \n",
            "\n",
            "2020-11-29 22:44:50 (75.0 MB/s) - ‘True.csv’ saved [53582940/53582940]\n",
            "\n"
          ],
          "name": "stdout"
        }
      ]
    },
    {
      "cell_type": "code",
      "metadata": {
        "id": "mQ9zQH61r44A"
      },
      "source": [
        "# sanity check\n",
        "fake_csv = pd.read_csv('Fake.csv')\n",
        "true_csv = pd.read_csv('True.csv')"
      ],
      "execution_count": null,
      "outputs": []
    },
    {
      "cell_type": "code",
      "metadata": {
        "id": "ugCNe8AitOct",
        "colab": {
          "base_uri": "https://localhost:8080/"
        },
        "outputId": "d0875968-5332-4c6d-e9ea-b462de01042f"
      },
      "source": [
        "fake_csv.head(5)"
      ],
      "execution_count": null,
      "outputs": [
        {
          "output_type": "execute_result",
          "data": {
            "text/html": [
              "<div>\n",
              "<style scoped>\n",
              "    .dataframe tbody tr th:only-of-type {\n",
              "        vertical-align: middle;\n",
              "    }\n",
              "\n",
              "    .dataframe tbody tr th {\n",
              "        vertical-align: top;\n",
              "    }\n",
              "\n",
              "    .dataframe thead th {\n",
              "        text-align: right;\n",
              "    }\n",
              "</style>\n",
              "<table border=\"1\" class=\"dataframe\">\n",
              "  <thead>\n",
              "    <tr style=\"text-align: right;\">\n",
              "      <th></th>\n",
              "      <th>title</th>\n",
              "      <th>text</th>\n",
              "      <th>subject</th>\n",
              "      <th>date</th>\n",
              "    </tr>\n",
              "  </thead>\n",
              "  <tbody>\n",
              "    <tr>\n",
              "      <th>0</th>\n",
              "      <td>Donald Trump Sends Out Embarrassing New Year’...</td>\n",
              "      <td>Donald Trump just couldn t wish all Americans ...</td>\n",
              "      <td>News</td>\n",
              "      <td>December 31, 2017</td>\n",
              "    </tr>\n",
              "    <tr>\n",
              "      <th>1</th>\n",
              "      <td>Drunk Bragging Trump Staffer Started Russian ...</td>\n",
              "      <td>House Intelligence Committee Chairman Devin Nu...</td>\n",
              "      <td>News</td>\n",
              "      <td>December 31, 2017</td>\n",
              "    </tr>\n",
              "    <tr>\n",
              "      <th>2</th>\n",
              "      <td>Sheriff David Clarke Becomes An Internet Joke...</td>\n",
              "      <td>On Friday, it was revealed that former Milwauk...</td>\n",
              "      <td>News</td>\n",
              "      <td>December 30, 2017</td>\n",
              "    </tr>\n",
              "    <tr>\n",
              "      <th>3</th>\n",
              "      <td>Trump Is So Obsessed He Even Has Obama’s Name...</td>\n",
              "      <td>On Christmas day, Donald Trump announced that ...</td>\n",
              "      <td>News</td>\n",
              "      <td>December 29, 2017</td>\n",
              "    </tr>\n",
              "    <tr>\n",
              "      <th>4</th>\n",
              "      <td>Pope Francis Just Called Out Donald Trump Dur...</td>\n",
              "      <td>Pope Francis used his annual Christmas Day mes...</td>\n",
              "      <td>News</td>\n",
              "      <td>December 25, 2017</td>\n",
              "    </tr>\n",
              "  </tbody>\n",
              "</table>\n",
              "</div>"
            ],
            "text/plain": [
              "                                               title  ...               date\n",
              "0   Donald Trump Sends Out Embarrassing New Year’...  ...  December 31, 2017\n",
              "1   Drunk Bragging Trump Staffer Started Russian ...  ...  December 31, 2017\n",
              "2   Sheriff David Clarke Becomes An Internet Joke...  ...  December 30, 2017\n",
              "3   Trump Is So Obsessed He Even Has Obama’s Name...  ...  December 29, 2017\n",
              "4   Pope Francis Just Called Out Donald Trump Dur...  ...  December 25, 2017\n",
              "\n",
              "[5 rows x 4 columns]"
            ]
          },
          "metadata": {
            "tags": []
          },
          "execution_count": 5
        }
      ]
    },
    {
      "cell_type": "code",
      "metadata": {
        "id": "lYtjcdmiu44l",
        "colab": {
          "base_uri": "https://localhost:8080/"
        },
        "outputId": "89b1cbfd-80af-4838-9806-27c4b9bcd781"
      },
      "source": [
        "true_csv.head(5)"
      ],
      "execution_count": null,
      "outputs": [
        {
          "output_type": "execute_result",
          "data": {
            "text/html": [
              "<div>\n",
              "<style scoped>\n",
              "    .dataframe tbody tr th:only-of-type {\n",
              "        vertical-align: middle;\n",
              "    }\n",
              "\n",
              "    .dataframe tbody tr th {\n",
              "        vertical-align: top;\n",
              "    }\n",
              "\n",
              "    .dataframe thead th {\n",
              "        text-align: right;\n",
              "    }\n",
              "</style>\n",
              "<table border=\"1\" class=\"dataframe\">\n",
              "  <thead>\n",
              "    <tr style=\"text-align: right;\">\n",
              "      <th></th>\n",
              "      <th>title</th>\n",
              "      <th>text</th>\n",
              "      <th>subject</th>\n",
              "      <th>date</th>\n",
              "    </tr>\n",
              "  </thead>\n",
              "  <tbody>\n",
              "    <tr>\n",
              "      <th>0</th>\n",
              "      <td>As U.S. budget fight looms, Republicans flip t...</td>\n",
              "      <td>WASHINGTON (Reuters) - The head of a conservat...</td>\n",
              "      <td>politicsNews</td>\n",
              "      <td>December 31, 2017</td>\n",
              "    </tr>\n",
              "    <tr>\n",
              "      <th>1</th>\n",
              "      <td>U.S. military to accept transgender recruits o...</td>\n",
              "      <td>WASHINGTON (Reuters) - Transgender people will...</td>\n",
              "      <td>politicsNews</td>\n",
              "      <td>December 29, 2017</td>\n",
              "    </tr>\n",
              "    <tr>\n",
              "      <th>2</th>\n",
              "      <td>Senior U.S. Republican senator: 'Let Mr. Muell...</td>\n",
              "      <td>WASHINGTON (Reuters) - The special counsel inv...</td>\n",
              "      <td>politicsNews</td>\n",
              "      <td>December 31, 2017</td>\n",
              "    </tr>\n",
              "    <tr>\n",
              "      <th>3</th>\n",
              "      <td>FBI Russia probe helped by Australian diplomat...</td>\n",
              "      <td>WASHINGTON (Reuters) - Trump campaign adviser ...</td>\n",
              "      <td>politicsNews</td>\n",
              "      <td>December 30, 2017</td>\n",
              "    </tr>\n",
              "    <tr>\n",
              "      <th>4</th>\n",
              "      <td>Trump wants Postal Service to charge 'much mor...</td>\n",
              "      <td>SEATTLE/WASHINGTON (Reuters) - President Donal...</td>\n",
              "      <td>politicsNews</td>\n",
              "      <td>December 29, 2017</td>\n",
              "    </tr>\n",
              "  </tbody>\n",
              "</table>\n",
              "</div>"
            ],
            "text/plain": [
              "                                               title  ...                date\n",
              "0  As U.S. budget fight looms, Republicans flip t...  ...  December 31, 2017 \n",
              "1  U.S. military to accept transgender recruits o...  ...  December 29, 2017 \n",
              "2  Senior U.S. Republican senator: 'Let Mr. Muell...  ...  December 31, 2017 \n",
              "3  FBI Russia probe helped by Australian diplomat...  ...  December 30, 2017 \n",
              "4  Trump wants Postal Service to charge 'much mor...  ...  December 29, 2017 \n",
              "\n",
              "[5 rows x 4 columns]"
            ]
          },
          "metadata": {
            "tags": []
          },
          "execution_count": 6
        }
      ]
    },
    {
      "cell_type": "markdown",
      "metadata": {
        "id": "NWpFfa61ri-Q"
      },
      "source": [
        "## 2. Data Pre-processing\n",
        "\n",
        "\n"
      ]
    },
    {
      "cell_type": "markdown",
      "metadata": {
        "id": "XZV7BPgEvdQT"
      },
      "source": [
        "Removing \"Reuters\" and its location tags is much faster if we just write it to a new csv"
      ]
    },
    {
      "cell_type": "markdown",
      "metadata": {
        "id": "OwaZ8tlJruml"
      },
      "source": [
        "### 2.1 Removing \"Reuters\" from the True.csv"
      ]
    },
    {
      "cell_type": "code",
      "metadata": {
        "id": "2MbFoHP4rzcS"
      },
      "source": [
        "with open(\"TrueClean.csv\", mode='w') as write_file:\n",
        "  writer = csv.writer(write_file, delimiter=',', quotechar='\"', quoting=csv.QUOTE_MINIMAL)\n",
        "  with open(\"True.csv\") as read_file:\n",
        "    csv_reader = csv.reader(read_file, delimiter=',')\n",
        "    for row in csv_reader:\n",
        "      writer.writerow([row[0], re.sub(r'(.*?)\\(Reuters\\) - ',\"\",row[1],count=1) , row[2], row[3]])"
      ],
      "execution_count": null,
      "outputs": []
    },
    {
      "cell_type": "code",
      "metadata": {
        "id": "R2VVWvCZui0H"
      },
      "source": [
        "cleaned_true = pd.read_csv('TrueClean.csv')\n",
        "cleaned_fake = pd.read_csv('Fake.csv')"
      ],
      "execution_count": null,
      "outputs": []
    },
    {
      "cell_type": "markdown",
      "metadata": {
        "id": "lQXH3k5onGKy"
      },
      "source": [
        "We add the binary classification to each csv here, true news are classified as 1, fake news are classified as 0"
      ]
    },
    {
      "cell_type": "code",
      "metadata": {
        "id": "W7atIc59m8-l"
      },
      "source": [
        "cleaned_true[\"class\"] = 1\n",
        "cleaned_fake[\"class\"] = 0"
      ],
      "execution_count": null,
      "outputs": []
    },
    {
      "cell_type": "code",
      "metadata": {
        "id": "BeqQdFgfuqfB",
        "colab": {
          "base_uri": "https://localhost:8080/",
          "height": 289
        },
        "outputId": "7eca466d-b38e-4cf9-b3b6-eeb53e7065d7"
      },
      "source": [
        "cleaned_true.head(5)\n"
      ],
      "execution_count": null,
      "outputs": [
        {
          "output_type": "execute_result",
          "data": {
            "text/html": [
              "<div>\n",
              "<style scoped>\n",
              "    .dataframe tbody tr th:only-of-type {\n",
              "        vertical-align: middle;\n",
              "    }\n",
              "\n",
              "    .dataframe tbody tr th {\n",
              "        vertical-align: top;\n",
              "    }\n",
              "\n",
              "    .dataframe thead th {\n",
              "        text-align: right;\n",
              "    }\n",
              "</style>\n",
              "<table border=\"1\" class=\"dataframe\">\n",
              "  <thead>\n",
              "    <tr style=\"text-align: right;\">\n",
              "      <th></th>\n",
              "      <th>title</th>\n",
              "      <th>text</th>\n",
              "      <th>subject</th>\n",
              "      <th>date</th>\n",
              "      <th>class</th>\n",
              "    </tr>\n",
              "  </thead>\n",
              "  <tbody>\n",
              "    <tr>\n",
              "      <th>0</th>\n",
              "      <td>As U.S. budget fight looms, Republicans flip t...</td>\n",
              "      <td>The head of a conservative Republican faction ...</td>\n",
              "      <td>politicsNews</td>\n",
              "      <td>December 31, 2017</td>\n",
              "      <td>1</td>\n",
              "    </tr>\n",
              "    <tr>\n",
              "      <th>1</th>\n",
              "      <td>U.S. military to accept transgender recruits o...</td>\n",
              "      <td>Transgender people will be allowed for the fir...</td>\n",
              "      <td>politicsNews</td>\n",
              "      <td>December 29, 2017</td>\n",
              "      <td>1</td>\n",
              "    </tr>\n",
              "    <tr>\n",
              "      <th>2</th>\n",
              "      <td>Senior U.S. Republican senator: 'Let Mr. Muell...</td>\n",
              "      <td>The special counsel investigation of links bet...</td>\n",
              "      <td>politicsNews</td>\n",
              "      <td>December 31, 2017</td>\n",
              "      <td>1</td>\n",
              "    </tr>\n",
              "    <tr>\n",
              "      <th>3</th>\n",
              "      <td>FBI Russia probe helped by Australian diplomat...</td>\n",
              "      <td>Trump campaign adviser George Papadopoulos tol...</td>\n",
              "      <td>politicsNews</td>\n",
              "      <td>December 30, 2017</td>\n",
              "      <td>1</td>\n",
              "    </tr>\n",
              "    <tr>\n",
              "      <th>4</th>\n",
              "      <td>Trump wants Postal Service to charge 'much mor...</td>\n",
              "      <td>President Donald Trump called on the U.S. Post...</td>\n",
              "      <td>politicsNews</td>\n",
              "      <td>December 29, 2017</td>\n",
              "      <td>1</td>\n",
              "    </tr>\n",
              "  </tbody>\n",
              "</table>\n",
              "</div>"
            ],
            "text/plain": [
              "                                               title  ... class\n",
              "0  As U.S. budget fight looms, Republicans flip t...  ...     1\n",
              "1  U.S. military to accept transgender recruits o...  ...     1\n",
              "2  Senior U.S. Republican senator: 'Let Mr. Muell...  ...     1\n",
              "3  FBI Russia probe helped by Australian diplomat...  ...     1\n",
              "4  Trump wants Postal Service to charge 'much mor...  ...     1\n",
              "\n",
              "[5 rows x 5 columns]"
            ]
          },
          "metadata": {
            "tags": []
          },
          "execution_count": 10
        }
      ]
    },
    {
      "cell_type": "code",
      "metadata": {
        "id": "S3HlfnjQzxmD",
        "colab": {
          "base_uri": "https://localhost:8080/",
          "height": 289
        },
        "outputId": "a7c12f3b-4981-4078-9370-d94d626fff50"
      },
      "source": [
        "cleaned_fake.head(5)"
      ],
      "execution_count": null,
      "outputs": [
        {
          "output_type": "execute_result",
          "data": {
            "text/html": [
              "<div>\n",
              "<style scoped>\n",
              "    .dataframe tbody tr th:only-of-type {\n",
              "        vertical-align: middle;\n",
              "    }\n",
              "\n",
              "    .dataframe tbody tr th {\n",
              "        vertical-align: top;\n",
              "    }\n",
              "\n",
              "    .dataframe thead th {\n",
              "        text-align: right;\n",
              "    }\n",
              "</style>\n",
              "<table border=\"1\" class=\"dataframe\">\n",
              "  <thead>\n",
              "    <tr style=\"text-align: right;\">\n",
              "      <th></th>\n",
              "      <th>title</th>\n",
              "      <th>text</th>\n",
              "      <th>subject</th>\n",
              "      <th>date</th>\n",
              "      <th>class</th>\n",
              "    </tr>\n",
              "  </thead>\n",
              "  <tbody>\n",
              "    <tr>\n",
              "      <th>0</th>\n",
              "      <td>Donald Trump Sends Out Embarrassing New Year’...</td>\n",
              "      <td>Donald Trump just couldn t wish all Americans ...</td>\n",
              "      <td>News</td>\n",
              "      <td>December 31, 2017</td>\n",
              "      <td>0</td>\n",
              "    </tr>\n",
              "    <tr>\n",
              "      <th>1</th>\n",
              "      <td>Drunk Bragging Trump Staffer Started Russian ...</td>\n",
              "      <td>House Intelligence Committee Chairman Devin Nu...</td>\n",
              "      <td>News</td>\n",
              "      <td>December 31, 2017</td>\n",
              "      <td>0</td>\n",
              "    </tr>\n",
              "    <tr>\n",
              "      <th>2</th>\n",
              "      <td>Sheriff David Clarke Becomes An Internet Joke...</td>\n",
              "      <td>On Friday, it was revealed that former Milwauk...</td>\n",
              "      <td>News</td>\n",
              "      <td>December 30, 2017</td>\n",
              "      <td>0</td>\n",
              "    </tr>\n",
              "    <tr>\n",
              "      <th>3</th>\n",
              "      <td>Trump Is So Obsessed He Even Has Obama’s Name...</td>\n",
              "      <td>On Christmas day, Donald Trump announced that ...</td>\n",
              "      <td>News</td>\n",
              "      <td>December 29, 2017</td>\n",
              "      <td>0</td>\n",
              "    </tr>\n",
              "    <tr>\n",
              "      <th>4</th>\n",
              "      <td>Pope Francis Just Called Out Donald Trump Dur...</td>\n",
              "      <td>Pope Francis used his annual Christmas Day mes...</td>\n",
              "      <td>News</td>\n",
              "      <td>December 25, 2017</td>\n",
              "      <td>0</td>\n",
              "    </tr>\n",
              "  </tbody>\n",
              "</table>\n",
              "</div>"
            ],
            "text/plain": [
              "                                               title  ... class\n",
              "0   Donald Trump Sends Out Embarrassing New Year’...  ...     0\n",
              "1   Drunk Bragging Trump Staffer Started Russian ...  ...     0\n",
              "2   Sheriff David Clarke Becomes An Internet Joke...  ...     0\n",
              "3   Trump Is So Obsessed He Even Has Obama’s Name...  ...     0\n",
              "4   Pope Francis Just Called Out Donald Trump Dur...  ...     0\n",
              "\n",
              "[5 rows x 5 columns]"
            ]
          },
          "metadata": {
            "tags": []
          },
          "execution_count": 11
        }
      ]
    },
    {
      "cell_type": "code",
      "metadata": {
        "id": "H6w5L3zlqOLn"
      },
      "source": [
        "data = cleaned_true.append(cleaned_fake, ignore_index=True)"
      ],
      "execution_count": null,
      "outputs": []
    },
    {
      "cell_type": "code",
      "metadata": {
        "id": "b_6GwfgJqkbV",
        "colab": {
          "base_uri": "https://localhost:8080/",
          "height": 289
        },
        "outputId": "f361a622-2253-40e6-df70-23a59126d6df"
      },
      "source": [
        "data.head(5)"
      ],
      "execution_count": null,
      "outputs": [
        {
          "output_type": "execute_result",
          "data": {
            "text/html": [
              "<div>\n",
              "<style scoped>\n",
              "    .dataframe tbody tr th:only-of-type {\n",
              "        vertical-align: middle;\n",
              "    }\n",
              "\n",
              "    .dataframe tbody tr th {\n",
              "        vertical-align: top;\n",
              "    }\n",
              "\n",
              "    .dataframe thead th {\n",
              "        text-align: right;\n",
              "    }\n",
              "</style>\n",
              "<table border=\"1\" class=\"dataframe\">\n",
              "  <thead>\n",
              "    <tr style=\"text-align: right;\">\n",
              "      <th></th>\n",
              "      <th>title</th>\n",
              "      <th>text</th>\n",
              "      <th>subject</th>\n",
              "      <th>date</th>\n",
              "      <th>class</th>\n",
              "    </tr>\n",
              "  </thead>\n",
              "  <tbody>\n",
              "    <tr>\n",
              "      <th>0</th>\n",
              "      <td>As U.S. budget fight looms, Republicans flip t...</td>\n",
              "      <td>The head of a conservative Republican faction ...</td>\n",
              "      <td>politicsNews</td>\n",
              "      <td>December 31, 2017</td>\n",
              "      <td>1</td>\n",
              "    </tr>\n",
              "    <tr>\n",
              "      <th>1</th>\n",
              "      <td>U.S. military to accept transgender recruits o...</td>\n",
              "      <td>Transgender people will be allowed for the fir...</td>\n",
              "      <td>politicsNews</td>\n",
              "      <td>December 29, 2017</td>\n",
              "      <td>1</td>\n",
              "    </tr>\n",
              "    <tr>\n",
              "      <th>2</th>\n",
              "      <td>Senior U.S. Republican senator: 'Let Mr. Muell...</td>\n",
              "      <td>The special counsel investigation of links bet...</td>\n",
              "      <td>politicsNews</td>\n",
              "      <td>December 31, 2017</td>\n",
              "      <td>1</td>\n",
              "    </tr>\n",
              "    <tr>\n",
              "      <th>3</th>\n",
              "      <td>FBI Russia probe helped by Australian diplomat...</td>\n",
              "      <td>Trump campaign adviser George Papadopoulos tol...</td>\n",
              "      <td>politicsNews</td>\n",
              "      <td>December 30, 2017</td>\n",
              "      <td>1</td>\n",
              "    </tr>\n",
              "    <tr>\n",
              "      <th>4</th>\n",
              "      <td>Trump wants Postal Service to charge 'much mor...</td>\n",
              "      <td>President Donald Trump called on the U.S. Post...</td>\n",
              "      <td>politicsNews</td>\n",
              "      <td>December 29, 2017</td>\n",
              "      <td>1</td>\n",
              "    </tr>\n",
              "  </tbody>\n",
              "</table>\n",
              "</div>"
            ],
            "text/plain": [
              "                                               title  ... class\n",
              "0  As U.S. budget fight looms, Republicans flip t...  ...     1\n",
              "1  U.S. military to accept transgender recruits o...  ...     1\n",
              "2  Senior U.S. Republican senator: 'Let Mr. Muell...  ...     1\n",
              "3  FBI Russia probe helped by Australian diplomat...  ...     1\n",
              "4  Trump wants Postal Service to charge 'much mor...  ...     1\n",
              "\n",
              "[5 rows x 5 columns]"
            ]
          },
          "metadata": {
            "tags": []
          },
          "execution_count": 13
        }
      ]
    },
    {
      "cell_type": "markdown",
      "metadata": {
        "id": "LgBLuhLRsb2O"
      },
      "source": [
        "We know that there could be empty text bodies in the text data, so we will remove those"
      ]
    },
    {
      "cell_type": "code",
      "metadata": {
        "id": "aOuZjOQFjOR7"
      },
      "source": [
        "index = 0\n",
        "collection = []\n",
        "for sentence in data['text']:\n",
        "  if len(sentence) == 1: \n",
        "    collection.append(index)  \n",
        "  index+=1"
      ],
      "execution_count": null,
      "outputs": []
    },
    {
      "cell_type": "code",
      "metadata": {
        "id": "gLuuMy_goBR8"
      },
      "source": [
        "for i in collection:\n",
        "  data = data.drop(data.index[i])"
      ],
      "execution_count": null,
      "outputs": []
    },
    {
      "cell_type": "code",
      "metadata": {
        "id": "NMkMofgXpDKZ",
        "colab": {
          "base_uri": "https://localhost:8080/"
        },
        "outputId": "d3b48ee8-67fe-4dfe-82ec-ee640b2e5521"
      },
      "source": [
        "data.shape"
      ],
      "execution_count": null,
      "outputs": [
        {
          "output_type": "execute_result",
          "data": {
            "text/plain": [
              "(44271, 5)"
            ]
          },
          "metadata": {
            "tags": []
          },
          "execution_count": 16
        }
      ]
    },
    {
      "cell_type": "markdown",
      "metadata": {
        "id": "wp5vO9mAsjtC"
      },
      "source": [
        "By appending the article title into the text body, we can make use of the title in our machine learning model to improve accuracy"
      ]
    },
    {
      "cell_type": "code",
      "metadata": {
        "id": "ZQBCsd8tr3GA",
        "colab": {
          "base_uri": "https://localhost:8080/",
          "height": 204
        },
        "outputId": "4151b91a-8abd-4f74-f87b-75abd33a4964"
      },
      "source": [
        "data['text'] = data['title'] + \" \" + data[\"text\"]\n",
        "data = data.drop([\"title\", \"subject\", \"date\"],axis=1)\n",
        "data.head(5)"
      ],
      "execution_count": null,
      "outputs": [
        {
          "output_type": "execute_result",
          "data": {
            "text/html": [
              "<div>\n",
              "<style scoped>\n",
              "    .dataframe tbody tr th:only-of-type {\n",
              "        vertical-align: middle;\n",
              "    }\n",
              "\n",
              "    .dataframe tbody tr th {\n",
              "        vertical-align: top;\n",
              "    }\n",
              "\n",
              "    .dataframe thead th {\n",
              "        text-align: right;\n",
              "    }\n",
              "</style>\n",
              "<table border=\"1\" class=\"dataframe\">\n",
              "  <thead>\n",
              "    <tr style=\"text-align: right;\">\n",
              "      <th></th>\n",
              "      <th>text</th>\n",
              "      <th>class</th>\n",
              "    </tr>\n",
              "  </thead>\n",
              "  <tbody>\n",
              "    <tr>\n",
              "      <th>0</th>\n",
              "      <td>As U.S. budget fight looms, Republicans flip t...</td>\n",
              "      <td>1</td>\n",
              "    </tr>\n",
              "    <tr>\n",
              "      <th>1</th>\n",
              "      <td>U.S. military to accept transgender recruits o...</td>\n",
              "      <td>1</td>\n",
              "    </tr>\n",
              "    <tr>\n",
              "      <th>2</th>\n",
              "      <td>Senior U.S. Republican senator: 'Let Mr. Muell...</td>\n",
              "      <td>1</td>\n",
              "    </tr>\n",
              "    <tr>\n",
              "      <th>3</th>\n",
              "      <td>FBI Russia probe helped by Australian diplomat...</td>\n",
              "      <td>1</td>\n",
              "    </tr>\n",
              "    <tr>\n",
              "      <th>4</th>\n",
              "      <td>Trump wants Postal Service to charge 'much mor...</td>\n",
              "      <td>1</td>\n",
              "    </tr>\n",
              "  </tbody>\n",
              "</table>\n",
              "</div>"
            ],
            "text/plain": [
              "                                                text  class\n",
              "0  As U.S. budget fight looms, Republicans flip t...      1\n",
              "1  U.S. military to accept transgender recruits o...      1\n",
              "2  Senior U.S. Republican senator: 'Let Mr. Muell...      1\n",
              "3  FBI Russia probe helped by Australian diplomat...      1\n",
              "4  Trump wants Postal Service to charge 'much mor...      1"
            ]
          },
          "metadata": {
            "tags": []
          },
          "execution_count": 17
        }
      ]
    },
    {
      "cell_type": "markdown",
      "metadata": {
        "id": "7VW3OCHokEMm"
      },
      "source": [
        "### 2.2 implementing Sentence Tokenisation"
      ]
    },
    {
      "cell_type": "markdown",
      "metadata": {
        "id": "yrQZTkk6ub1X"
      },
      "source": [
        "We will Tokenise the sentences by removing stopwords, punctuations and single character words that don't have any impact on the meaning of the sentences. Most of these tasks can be done quite easily when we implement pre-exixsting libraries especially NLTK \n",
        "\n",
        "Note: Lemmatizing requires a huge amount of computation, therefore it could actually take up to 10 mins to run tokenisation on the dataset"
      ]
    },
    {
      "cell_type": "code",
      "metadata": {
        "id": "SjREeFforkcJ"
      },
      "source": [
        "y = data[\"class\"].values\n",
        "X = []\n",
        "stop_words = set(stopwords.words(\"english\"))\n",
        "tokeniser = nltk.tokenize.RegexpTokenizer(r'\\w+')\n",
        "\n",
        "\n",
        "def sentenece_tokenisation(par): \n",
        "  tmp = []\n",
        "  sentences = nltk.sent_tokenize(par)\n",
        "  for sent in sentences:\n",
        "    sent = sent.lower()\n",
        "    tokens = tokeniser.tokenize(sent)\n",
        "    filtered_words = [w.strip() for w in tokens if w not in stop_words and len(w) > 1]\n",
        "    tmp.extend(filtered_words)\n",
        "    tmp = [lemmatizer.lemmatize(j) for j in tmp]\n",
        "  X.append(tmp)\n",
        "\n",
        "def input_tokenisation(par):\n",
        "  tmp = []\n",
        "  if \"(Reuters) - \" in par:\n",
        "    par = par.split(\" - \")[1]\n",
        "  sentences = nltk.sent_tokenize(par)\n",
        "  for sent in sentences:\n",
        "    sent = sent.lower()\n",
        "    tokens = tokeniser.tokenize(sent)\n",
        "    filtered_words = [w.strip() for w in tokens if w not in stop_words and len(w) > 1]\n",
        "    tmp.extend(filtered_words)\n",
        "    tmp = [lemmatizer.lemmatize(j) for j in tmp]\n",
        "  tmp = ','.join(tmp)\n",
        "  return tmp"
      ],
      "execution_count": null,
      "outputs": []
    },
    {
      "cell_type": "code",
      "metadata": {
        "id": "cp2IfLwAveho"
      },
      "source": [
        "for par in data[\"text\"]:\n",
        "  sentenece_tokenisation(par)"
      ],
      "execution_count": null,
      "outputs": []
    },
    {
      "cell_type": "code",
      "metadata": {
        "id": "ElLkElrn9EXC"
      },
      "source": [
        "for i in range(len(X)):\n",
        "  X[i] = ','.join(X[i])"
      ],
      "execution_count": null,
      "outputs": []
    },
    {
      "cell_type": "markdown",
      "metadata": {
        "id": "EGjvCAKlr6ia"
      },
      "source": [
        "### 2.3 Train Validation Test Split\n",
        "We will split train test validation sets into size of 80%, 10%, 10% sets respectively. This can be implemented by pre-existing libraries"
      ]
    },
    {
      "cell_type": "code",
      "metadata": {
        "id": "r4pIK5zDsNP0"
      },
      "source": [
        "X_train, X_test, y_train, y_test = train_test_split(X, y, test_size=0.1, random_state=1)\n",
        "X_train, X_val, y_train, y_val = train_test_split(X_train, y_train, test_size=0.11, random_state=1) # 0.25 x 0.8 = 0.2"
      ],
      "execution_count": null,
      "outputs": []
    },
    {
      "cell_type": "markdown",
      "metadata": {
        "id": "T8JraQaO8FEq"
      },
      "source": [
        "## 3. Model"
      ]
    },
    {
      "cell_type": "markdown",
      "metadata": {
        "id": "FxI12RmaweQB"
      },
      "source": [
        "### 3.1 Modelling\n",
        "We will vectorise the existing training set by applying CountVectorising. It summarises all the unique strings in the training set. Then we will apply TF-IDF to find the probablity of occurance of each words in the string."
      ]
    },
    {
      "cell_type": "code",
      "metadata": {
        "id": "oaSjXTxlyAsD"
      },
      "source": [
        "# bow_transformer = CountVectorizer().fit(X_train)\n",
        "# train_bow = bow_transformer.transform(X_train)\n",
        "# tfidf_transformer = TfidfTransformer().fit(train_bow)\n",
        "# train_tfidf = tfidf_transformer.transform(train_bow)"
      ],
      "execution_count": null,
      "outputs": []
    },
    {
      "cell_type": "code",
      "metadata": {
        "id": "rfMw1KBxBv2Y"
      },
      "source": [
        "# def calculate_tfidf(data_set):\n",
        "#   bow_result = bow_transformer.transform(data_set)\n",
        "#   calculated_tfidf = tfidf_transformer.transform(bow_result)\n",
        "#   return calculated_tfidf"
      ],
      "execution_count": null,
      "outputs": []
    },
    {
      "cell_type": "markdown",
      "metadata": {
        "id": "77xW8lYF7i9K"
      },
      "source": [
        "### 3.2 Use Gridsearch to find the best parameters for the Multinomial algorithm\n",
        "\n",
        "We will then put everything into a standard library pipeline object for convinience "
      ]
    },
    {
      "cell_type": "code",
      "metadata": {
        "id": "uxieBqjGoAJr"
      },
      "source": [
        "# pipeline = Pipeline([\n",
        "#     ('bow', CountVectorizer()),  \n",
        "#     ('tfidf', TfidfTransformer()),  \n",
        "#     ('classifier', MultinomialNB()),  \n",
        "# ])\n",
        "# pipeline.fit(X_train,y_train)\n",
        "\n",
        "# parameters = {\n",
        "#     'tfidf__use_idf': (True, False),\n",
        "#     'bow__ngram_range': [(1, 1), (1, 2), (1, 3)],\n",
        "#     'classifier__alpha': (1e-2, 1e-3)\n",
        "# }\n",
        "\n",
        "# grid_search_tune = GridSearchCV(pipeline, parameters, cv=2, n_jobs=2, verbose=3)\n",
        "# grid_search_tune.fit(X_train, y_train)\n",
        "\n",
        "# print(\"Best parameters set:\")\n",
        "# print(grid_search_tune.best_estimator_.steps)"
      ],
      "execution_count": null,
      "outputs": []
    },
    {
      "cell_type": "markdown",
      "metadata": {
        "id": "Eypec0ft8VWz"
      },
      "source": [
        "### 3.3 Building the final pipeline\n",
        "\n",
        "We will use the best params from the above gridsearch for the final pipeline"
      ]
    },
    {
      "cell_type": "code",
      "metadata": {
        "colab": {
          "base_uri": "https://localhost:8080/"
        },
        "id": "rIPrjWQs5sCD",
        "outputId": "221f4c2b-f0b3-4267-94ef-0f36fd99ffe0"
      },
      "source": [
        "best_pipeline = Pipeline([\n",
        "    ('bow', CountVectorizer(analyzer='word', binary=False,\n",
        "                lowercase=True, max_df=1.0, max_features=None, min_df=1,\n",
        "                ngram_range=(1, 3), preprocessor=None, stop_words=None,\n",
        "                strip_accents=None, token_pattern='(?u)\\\\b\\\\w\\\\w+\\\\b',\n",
        "                tokenizer=None, vocabulary=None)),  \n",
        "    ('tfidf', TfidfTransformer(norm='l2', smooth_idf=True, sublinear_tf=False, use_idf=False)),  \n",
        "    ('classifier', MultinomialNB(alpha=0.001, class_prior=None, fit_prior=True)),  \n",
        "])\n",
        "best_pipeline.fit(X_train,y_train)"
      ],
      "execution_count": null,
      "outputs": [
        {
          "output_type": "execute_result",
          "data": {
            "text/plain": [
              "Pipeline(memory=None,\n",
              "         steps=[('bow',\n",
              "                 CountVectorizer(analyzer='word', binary=False,\n",
              "                                 decode_error='strict',\n",
              "                                 dtype=<class 'numpy.int64'>, encoding='utf-8',\n",
              "                                 input='content', lowercase=True, max_df=1.0,\n",
              "                                 max_features=None, min_df=1,\n",
              "                                 ngram_range=(1, 3), preprocessor=None,\n",
              "                                 stop_words=None, strip_accents=None,\n",
              "                                 token_pattern='(?u)\\\\b\\\\w\\\\w+\\\\b',\n",
              "                                 tokenizer=None, vocabulary=None)),\n",
              "                ('tfidf',\n",
              "                 TfidfTransformer(norm='l2', smooth_idf=True,\n",
              "                                  sublinear_tf=False, use_idf=False)),\n",
              "                ('classifier',\n",
              "                 MultinomialNB(alpha=0.001, class_prior=None, fit_prior=True))],\n",
              "         verbose=False)"
            ]
          },
          "metadata": {
            "tags": []
          },
          "execution_count": 25
        }
      ]
    },
    {
      "cell_type": "code",
      "metadata": {
        "id": "3ANWSyKv8x8a"
      },
      "source": [
        "prediction = best_pipeline.predict(X_test)\n",
        "print(classification_report(prediction,y_test))"
      ],
      "execution_count": null,
      "outputs": []
    },
    {
      "cell_type": "markdown",
      "metadata": {
        "id": "6tJKx00GON1s"
      },
      "source": [
        "### 3.4 Use the below function to output a result for a specific sentence or news article"
      ]
    },
    {
      "cell_type": "code",
      "metadata": {
        "id": "7FjfEALkOKvD"
      },
      "source": [
        "def pred_res(aString):\n",
        "  foo = input_tokenisation(aString)\n",
        "  foo = [foo]\n",
        "  res = best_pipeline.predict(foo)[0]\n",
        "  if res == 0:\n",
        "    return \"This news is fake\"\n",
        "  else:\n",
        "    return \"This news is real\"\n",
        "  "
      ],
      "execution_count": null,
      "outputs": []
    },
    {
      "cell_type": "code",
      "metadata": {
        "id": "uq0wVcgsCbdx",
        "colab": {
          "base_uri": "https://localhost:8080/"
        },
        "outputId": "c4bca3a1-4e4a-4937-a286-8ece3b2be3da"
      },
      "source": [
        "print(classification_report(best_pipeline.predict(X_val),y_val))\n",
        "print(classification_report(best_pipeline.predict(X_test),y_test))"
      ],
      "execution_count": null,
      "outputs": [
        {
          "output_type": "stream",
          "text": [
            "              precision    recall  f1-score   support\n",
            "\n",
            "           0       0.97      0.98      0.98      2207\n",
            "           1       0.98      0.97      0.97      2176\n",
            "\n",
            "    accuracy                           0.97      4383\n",
            "   macro avg       0.97      0.97      0.97      4383\n",
            "weighted avg       0.97      0.97      0.97      4383\n",
            "\n",
            "              precision    recall  f1-score   support\n",
            "\n",
            "           0       0.98      0.98      0.98      2347\n",
            "           1       0.97      0.98      0.98      2081\n",
            "\n",
            "    accuracy                           0.98      4428\n",
            "   macro avg       0.98      0.98      0.98      4428\n",
            "weighted avg       0.98      0.98      0.98      4428\n",
            "\n"
          ],
          "name": "stdout"
        }
      ]
    },
    {
      "cell_type": "code",
      "metadata": {
        "id": "8fmoh4-8PJNi",
        "colab": {
          "base_uri": "https://localhost:8080/"
        },
        "outputId": "c09c80fe-4151-433a-9696-3ccc3d344c22"
      },
      "source": [
        "confusion_matrix(y_test, best_pipeline.predict(X_test))"
      ],
      "execution_count": null,
      "outputs": [
        {
          "output_type": "execute_result",
          "data": {
            "text/plain": [
              "array([[2293,   45],\n",
              "       [  54, 2036]])"
            ]
          },
          "metadata": {
            "tags": []
          },
          "execution_count": 57
        }
      ]
    },
    {
      "cell_type": "markdown",
      "metadata": {
        "id": "DDoymd_YN6FC"
      },
      "source": [
        "## 4. A random test"
      ]
    },
    {
      "cell_type": "markdown",
      "metadata": {
        "id": "r49X8-cfOC2A"
      },
      "source": [
        "### 4.1 Random test on an onion article\n",
        "I copied a news article from the onion.com which i'd imagine that it would be difficult to tell if its true or fake, but the machine handled it well"
      ]
    },
    {
      "cell_type": "code",
      "metadata": {
        "id": "2mUug7NJHPYs",
        "colab": {
          "base_uri": "https://localhost:8080/"
        },
        "outputId": "1ed14e2b-d2dd-4f0f-b021-43c682eb726a"
      },
      "source": [
        "print(pred_res(\"Bucking centuries of precedent with a decision not to participate in the peaceful transfer of his authority, Donald Trump Jr. has refused to step down from his post as the president’s oldest son, sources confirmed Wednesday. “I, Don Trump Jr.—or, I should now say, Don Biden Jr.—will continue to fulfill my duties as the president’s eldest male offspring regardless of any attempts to unseat me or render my position illegitimate,” the 42-year-old real estate heir told reporters, saying he looked forward to promoting president-elect Joe Biden’s personal brand and to spending holidays with the first family, during which he hoped to bond with his “new siblings” Hunter and Ashley. “In this tumultuous time, the nation needs continuity, and through my proven experience as the president’s first male issue, I can provide that. Let me be clear: I am the commander-in-chief’s very special boy, and I will continue in this role for four more years. I’ve already filed a lawsuit to halt the installation of any other person in my position and, if necessary, will pursue this matter all the way to the Supreme Court.” At press time, the U.S. Supreme Court had issued a summary judgment declaring that the last person to claim the post of president’s oldest son had never officially stepped down, and thus the role still rightfully belonged to George W. Bush.\"))"
      ],
      "execution_count": null,
      "outputs": [
        {
          "output_type": "stream",
          "text": [
            "This news is real\n"
          ],
          "name": "stdout"
        }
      ]
    },
    {
      "cell_type": "code",
      "metadata": {
        "id": "92uKphjOPiJS",
        "colab": {
          "base_uri": "https://localhost:8080/"
        },
        "outputId": "ee7ddbfa-82a6-4b71-e059-d14c77b42f46"
      },
      "source": [
        "print(pred_res(\"Additional intelligence briefings “would be useful,” Biden added, but “we don’t see anything slowing us down.” The measured comments come as Biden prepares to confront dueling national crises that actively threaten the health, safety and economic security of millions of Americans irrespective of the political debate. Coronavirus infections, hospitalizations and deaths are surging, the economy faces the prospect of long-term damage, and the nation’s political and cultural divides may be worsening. Biden is betting that his low-key approach and bipartisan outreach — a sharp reversal from the current president’s style — will help him govern effectively on Day One. But just 71 days before he will be inaugurated, Trump and his allies seemed determined to make Biden’s transition as difficult as possible. From his Twitter account on Tuesday, Trump again raised unsupported claims of “massive ballot counting abuse” and predicted he would ultimately win the race he has already lost. His allies on Capitol Hill, led by Senate Majority Leader Mitch McConnell, have encouraged the president’s baseless accusations. Trump’s tweets were swiftly flagged by the social media network as disputed claims about election fraud.\"))"
      ],
      "execution_count": null,
      "outputs": [
        {
          "output_type": "stream",
          "text": [
            "This news is real\n"
          ],
          "name": "stdout"
        }
      ]
    },
    {
      "cell_type": "code",
      "metadata": {
        "id": "6mqCDlWJPrbv",
        "colab": {
          "base_uri": "https://localhost:8080/"
        },
        "outputId": "e039a7c6-c60d-4d92-ca41-ac6c9bcf3c55"
      },
      "source": [
        "print(pred_res(\"Most recently, in response to Trump’s withdrawal from the 2015 nuclear agreement and the administration’s maximum pressure campaign of withering sanctions, Iran has carried out a series of provocations with Suleimani’s fingerprints all over them—including threats to U.S. troops in Iraq. According Chairman of the Joint Chiefs of Staff Mark Milley, Iranian-backed groups have engaged in a sustained campaign of rocket attacks targeting U.S. facilities in Iraq since October 2019. But until Dec. 27, none had drawn American blood. Once one did, the United States swiftly retaliated, launching strikes against Kataib Hezbollah targets on both sides of the Iraq-Syria border. That, in turn, prompted Shiite militia leaders to mobilize a siege of the U.S. Embassy in Baghdad, raising the specter of a Benghazi-like scenario. This was the context for Trump’s decision to kill Suleimani. But whatever underlying sense of justice Americans may feel now that a terrorist mastermind is dead, it should not obscure the very real prospect that his assassination could set in motion events that spiral out of control in ways that put Americans and U.S. interests in deeper danger. Two previous U.S. administrations decided against a direct shot against Suleimani out of concern, widely shared by the Pentagon and the intelligence community, that all-out escalation would likely follow. As recently as this past spring, the Department of Defense warned the White House against designating the IRGC as a foreign terrorist organization, arguing that it could put the lives of U.S. personnel in Iraq and elsewhere in the region at risk. (Trump did so anyway.) And in June, then-Chairman of the Joint Chiefs of Staff Joseph Dunford helped talk Trump out of retaliating on Iranian soil for the Tehran’s downing of a U.S. drone. This cautious tradition has now been overturned.\"))"
      ],
      "execution_count": null,
      "outputs": [
        {
          "output_type": "stream",
          "text": [
            "This news is real\n"
          ],
          "name": "stdout"
        }
      ]
    },
    {
      "cell_type": "code",
      "metadata": {
        "id": "1Mr7OFf-PvHN",
        "colab": {
          "base_uri": "https://localhost:8080/"
        },
        "outputId": "838cd5b0-1e2d-42b4-8d17-a56bb249b687"
      },
      "source": [
        "print(pred_res(\"WASHINGTON—Following news that the Democratic nominee had officially cleared 270 electoral votes, The Lincoln Project super PAC immediately released a series of ads Friday calling for Joe Biden to be impeached. “It’s time for America to heal, and we can’t do it with this maniac in office,” said the commercial’s narrator, which aired on TV channels across the country alongside an animated ad depicting a mustachioed Biden rapping under the name “Joe Stalin.” “In the 2020 election, we voted for Biden. Now, we understand that was a grave mistake, and it’s our job to turn things around. Joseph Biden must go. The president-elect is out of control. He’s a risk to American democracy, and he’s certainly no conservative.” At press time, The Lincoln Project had unleashed a new campaign tearing into itself for such appalling hypocrisy.\"))"
      ],
      "execution_count": null,
      "outputs": [
        {
          "output_type": "stream",
          "text": [
            "This news is fake\n"
          ],
          "name": "stdout"
        }
      ]
    },
    {
      "cell_type": "code",
      "metadata": {
        "id": "X5MfeP6ARcYC",
        "colab": {
          "base_uri": "https://localhost:8080/"
        },
        "outputId": "169c8f59-dd35-4905-f6f6-8e7c0f58f590"
      },
      "source": [
        "print(pred_res(\"Students at New Residence Hall threw a 600 person orgy in celebration of the news that they had achieved herd immunity from chlamydia, sources confirmed on Wednesday. This breakthrough came after McGill modeled its groundbreaking approach to dealing with chlamydia off Stockholm University. Early last week, New Residence Hall’s chlamydia levels were so high that the hall was placed under an orange alert, limiting orgies to six people instead of ten. The residence also implemented a new condom mandate, forcing students to wear condoms at all orgies. This mandate was met by a large anti-condom protest, where hundreds of itchy students gathered to defend their right to get sick and spread the plague. However, not all students have felt the effect of this epidemic. Among the unaffected students were the residents of La Citadelle, being totally clueless as to how STDs were even transmitted. French students were also among the fortunate to not get the STD, as students stringently continued their century-long social distancing campaign from them. Unfortunately for them, they were all checked into the ICU later with a grave respiratory illness: lung cancer. Our reporters reached out to the prestigious McGill Administration to inquire about the situation. When asked about the health and safety of students, they replied \\\"The important thing is that we can charge them $10,000 a year to live here.\\\" In other Rez news, a kid from Solin Hall showed early symptoms of the common flu. In a quick clean-up effort initiated by McGill, the building was levelled in a drone strike. Everyone else continued about their lives as normal.\"))"
      ],
      "execution_count": null,
      "outputs": [
        {
          "output_type": "stream",
          "text": [
            "This news is fake\n"
          ],
          "name": "stdout"
        }
      ]
    }
  ]
}